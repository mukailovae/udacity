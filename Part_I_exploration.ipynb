{
 "cells": [
  {
   "cell_type": "markdown",
   "metadata": {},
   "source": [
    "Part I - Prosper Loan Data Analysis\n",
    "by Elmira Mukailova\n",
    "\n",
    "Introduction\n",
    "The Prosper dataset contains 113,937 loans and 81 variables on each loan, including loan amount, borrower rate (or interest rate), current loan status, borrower income, employment status, and occupation. A discription of each variable is provided in the dictionary which comes with the dataset.\n",
    "In Part 1 of the project the goal was to see what affects interest rates:Prosper Rating,Income, Credit Score, loan type, loan term, state  of individuals residence.\n"
   ]
  },
  {
   "cell_type": "markdown",
   "metadata": {},
   "source": [
    "Preliminary Wrangling\n",
    "\n",
    "In this section I tried to reduce the size of the database and dropped some of the columns that will not be needed for the analysis.\n",
    "In addition, columns needed change of format."
   ]
  },
  {
   "cell_type": "code",
   "execution_count": 1,
   "metadata": {},
   "outputs": [],
   "source": [
    "# import all packages and set plots to be embedded inline\n",
    "import numpy as np\n",
    "import pandas as pd\n",
    "import matplotlib.pyplot as plt\n",
    "import seaborn as sb\n",
    "\n",
    "%matplotlib inline"
   ]
  },
  {
   "cell_type": "markdown",
   "metadata": {},
   "source": [
    "> Load in your dataset and describe its properties through the questions below. Try and motivate your exploration goals through this section.\n"
   ]
  },
  {
   "cell_type": "code",
   "execution_count": 2,
   "metadata": {},
   "outputs": [],
   "source": [
    "loan_data=pd.read_csv('prosperLoanData.csv')"
   ]
  },
  {
   "cell_type": "code",
   "execution_count": 3,
   "metadata": {},
   "outputs": [
    {
     "name": "stdout",
     "output_type": "stream",
     "text": [
      "<class 'pandas.core.frame.DataFrame'>\n",
      "RangeIndex: 113937 entries, 0 to 113936\n",
      "Data columns (total 81 columns):\n",
      "ListingKey                             113937 non-null object\n",
      "ListingNumber                          113937 non-null int64\n",
      "ListingCreationDate                    113937 non-null object\n",
      "CreditGrade                            28953 non-null object\n",
      "Term                                   113937 non-null int64\n",
      "LoanStatus                             113937 non-null object\n",
      "ClosedDate                             55089 non-null object\n",
      "BorrowerAPR                            113912 non-null float64\n",
      "BorrowerRate                           113937 non-null float64\n",
      "LenderYield                            113937 non-null float64\n",
      "EstimatedEffectiveYield                84853 non-null float64\n",
      "EstimatedLoss                          84853 non-null float64\n",
      "EstimatedReturn                        84853 non-null float64\n",
      "ProsperRating (numeric)                84853 non-null float64\n",
      "ProsperRating (Alpha)                  84853 non-null object\n",
      "ProsperScore                           84853 non-null float64\n",
      "ListingCategory (numeric)              113937 non-null int64\n",
      "BorrowerState                          108422 non-null object\n",
      "Occupation                             110349 non-null object\n",
      "EmploymentStatus                       111682 non-null object\n",
      "EmploymentStatusDuration               106312 non-null float64\n",
      "IsBorrowerHomeowner                    113937 non-null bool\n",
      "CurrentlyInGroup                       113937 non-null bool\n",
      "GroupKey                               13341 non-null object\n",
      "DateCreditPulled                       113937 non-null object\n",
      "CreditScoreRangeLower                  113346 non-null float64\n",
      "CreditScoreRangeUpper                  113346 non-null float64\n",
      "FirstRecordedCreditLine                113240 non-null object\n",
      "CurrentCreditLines                     106333 non-null float64\n",
      "OpenCreditLines                        106333 non-null float64\n",
      "TotalCreditLinespast7years             113240 non-null float64\n",
      "OpenRevolvingAccounts                  113937 non-null int64\n",
      "OpenRevolvingMonthlyPayment            113937 non-null float64\n",
      "InquiriesLast6Months                   113240 non-null float64\n",
      "TotalInquiries                         112778 non-null float64\n",
      "CurrentDelinquencies                   113240 non-null float64\n",
      "AmountDelinquent                       106315 non-null float64\n",
      "DelinquenciesLast7Years                112947 non-null float64\n",
      "PublicRecordsLast10Years               113240 non-null float64\n",
      "PublicRecordsLast12Months              106333 non-null float64\n",
      "RevolvingCreditBalance                 106333 non-null float64\n",
      "BankcardUtilization                    106333 non-null float64\n",
      "AvailableBankcardCredit                106393 non-null float64\n",
      "TotalTrades                            106393 non-null float64\n",
      "TradesNeverDelinquent (percentage)     106393 non-null float64\n",
      "TradesOpenedLast6Months                106393 non-null float64\n",
      "DebtToIncomeRatio                      105383 non-null float64\n",
      "IncomeRange                            113937 non-null object\n",
      "IncomeVerifiable                       113937 non-null bool\n",
      "StatedMonthlyIncome                    113937 non-null float64\n",
      "LoanKey                                113937 non-null object\n",
      "TotalProsperLoans                      22085 non-null float64\n",
      "TotalProsperPaymentsBilled             22085 non-null float64\n",
      "OnTimeProsperPayments                  22085 non-null float64\n",
      "ProsperPaymentsLessThanOneMonthLate    22085 non-null float64\n",
      "ProsperPaymentsOneMonthPlusLate        22085 non-null float64\n",
      "ProsperPrincipalBorrowed               22085 non-null float64\n",
      "ProsperPrincipalOutstanding            22085 non-null float64\n",
      "ScorexChangeAtTimeOfListing            18928 non-null float64\n",
      "LoanCurrentDaysDelinquent              113937 non-null int64\n",
      "LoanFirstDefaultedCycleNumber          16952 non-null float64\n",
      "LoanMonthsSinceOrigination             113937 non-null int64\n",
      "LoanNumber                             113937 non-null int64\n",
      "LoanOriginalAmount                     113937 non-null int64\n",
      "LoanOriginationDate                    113937 non-null object\n",
      "LoanOriginationQuarter                 113937 non-null object\n",
      "MemberKey                              113937 non-null object\n",
      "MonthlyLoanPayment                     113937 non-null float64\n",
      "LP_CustomerPayments                    113937 non-null float64\n",
      "LP_CustomerPrincipalPayments           113937 non-null float64\n",
      "LP_InterestandFees                     113937 non-null float64\n",
      "LP_ServiceFees                         113937 non-null float64\n",
      "LP_CollectionFees                      113937 non-null float64\n",
      "LP_GrossPrincipalLoss                  113937 non-null float64\n",
      "LP_NetPrincipalLoss                    113937 non-null float64\n",
      "LP_NonPrincipalRecoverypayments        113937 non-null float64\n",
      "PercentFunded                          113937 non-null float64\n",
      "Recommendations                        113937 non-null int64\n",
      "InvestmentFromFriendsCount             113937 non-null int64\n",
      "InvestmentFromFriendsAmount            113937 non-null float64\n",
      "Investors                              113937 non-null int64\n",
      "dtypes: bool(3), float64(50), int64(11), object(17)\n",
      "memory usage: 68.1+ MB\n"
     ]
    }
   ],
   "source": [
    "#overview of the dataset\n",
    "loan_data.info()"
   ]
  },
  {
   "cell_type": "code",
   "execution_count": 4,
   "metadata": {},
   "outputs": [
    {
     "data": {
      "text/html": [
       "<div>\n",
       "<style scoped>\n",
       "    .dataframe tbody tr th:only-of-type {\n",
       "        vertical-align: middle;\n",
       "    }\n",
       "\n",
       "    .dataframe tbody tr th {\n",
       "        vertical-align: top;\n",
       "    }\n",
       "\n",
       "    .dataframe thead th {\n",
       "        text-align: right;\n",
       "    }\n",
       "</style>\n",
       "<table border=\"1\" class=\"dataframe\">\n",
       "  <thead>\n",
       "    <tr style=\"text-align: right;\">\n",
       "      <th></th>\n",
       "      <th>ListingKey</th>\n",
       "      <th>ListingNumber</th>\n",
       "      <th>ListingCreationDate</th>\n",
       "      <th>CreditGrade</th>\n",
       "      <th>Term</th>\n",
       "      <th>LoanStatus</th>\n",
       "      <th>ClosedDate</th>\n",
       "      <th>BorrowerAPR</th>\n",
       "      <th>BorrowerRate</th>\n",
       "      <th>LenderYield</th>\n",
       "      <th>...</th>\n",
       "      <th>LP_ServiceFees</th>\n",
       "      <th>LP_CollectionFees</th>\n",
       "      <th>LP_GrossPrincipalLoss</th>\n",
       "      <th>LP_NetPrincipalLoss</th>\n",
       "      <th>LP_NonPrincipalRecoverypayments</th>\n",
       "      <th>PercentFunded</th>\n",
       "      <th>Recommendations</th>\n",
       "      <th>InvestmentFromFriendsCount</th>\n",
       "      <th>InvestmentFromFriendsAmount</th>\n",
       "      <th>Investors</th>\n",
       "    </tr>\n",
       "  </thead>\n",
       "  <tbody>\n",
       "    <tr>\n",
       "      <th>0</th>\n",
       "      <td>1021339766868145413AB3B</td>\n",
       "      <td>193129</td>\n",
       "      <td>2007-08-26 19:09:29.263000000</td>\n",
       "      <td>C</td>\n",
       "      <td>36</td>\n",
       "      <td>Completed</td>\n",
       "      <td>2009-08-14 00:00:00</td>\n",
       "      <td>0.16516</td>\n",
       "      <td>0.1580</td>\n",
       "      <td>0.1380</td>\n",
       "      <td>...</td>\n",
       "      <td>-133.18</td>\n",
       "      <td>0.0</td>\n",
       "      <td>0.0</td>\n",
       "      <td>0.0</td>\n",
       "      <td>0.0</td>\n",
       "      <td>1.0</td>\n",
       "      <td>0</td>\n",
       "      <td>0</td>\n",
       "      <td>0.0</td>\n",
       "      <td>258</td>\n",
       "    </tr>\n",
       "    <tr>\n",
       "      <th>1</th>\n",
       "      <td>10273602499503308B223C1</td>\n",
       "      <td>1209647</td>\n",
       "      <td>2014-02-27 08:28:07.900000000</td>\n",
       "      <td>NaN</td>\n",
       "      <td>36</td>\n",
       "      <td>Current</td>\n",
       "      <td>NaN</td>\n",
       "      <td>0.12016</td>\n",
       "      <td>0.0920</td>\n",
       "      <td>0.0820</td>\n",
       "      <td>...</td>\n",
       "      <td>0.00</td>\n",
       "      <td>0.0</td>\n",
       "      <td>0.0</td>\n",
       "      <td>0.0</td>\n",
       "      <td>0.0</td>\n",
       "      <td>1.0</td>\n",
       "      <td>0</td>\n",
       "      <td>0</td>\n",
       "      <td>0.0</td>\n",
       "      <td>1</td>\n",
       "    </tr>\n",
       "    <tr>\n",
       "      <th>2</th>\n",
       "      <td>0EE9337825851032864889A</td>\n",
       "      <td>81716</td>\n",
       "      <td>2007-01-05 15:00:47.090000000</td>\n",
       "      <td>HR</td>\n",
       "      <td>36</td>\n",
       "      <td>Completed</td>\n",
       "      <td>2009-12-17 00:00:00</td>\n",
       "      <td>0.28269</td>\n",
       "      <td>0.2750</td>\n",
       "      <td>0.2400</td>\n",
       "      <td>...</td>\n",
       "      <td>-24.20</td>\n",
       "      <td>0.0</td>\n",
       "      <td>0.0</td>\n",
       "      <td>0.0</td>\n",
       "      <td>0.0</td>\n",
       "      <td>1.0</td>\n",
       "      <td>0</td>\n",
       "      <td>0</td>\n",
       "      <td>0.0</td>\n",
       "      <td>41</td>\n",
       "    </tr>\n",
       "    <tr>\n",
       "      <th>3</th>\n",
       "      <td>0EF5356002482715299901A</td>\n",
       "      <td>658116</td>\n",
       "      <td>2012-10-22 11:02:35.010000000</td>\n",
       "      <td>NaN</td>\n",
       "      <td>36</td>\n",
       "      <td>Current</td>\n",
       "      <td>NaN</td>\n",
       "      <td>0.12528</td>\n",
       "      <td>0.0974</td>\n",
       "      <td>0.0874</td>\n",
       "      <td>...</td>\n",
       "      <td>-108.01</td>\n",
       "      <td>0.0</td>\n",
       "      <td>0.0</td>\n",
       "      <td>0.0</td>\n",
       "      <td>0.0</td>\n",
       "      <td>1.0</td>\n",
       "      <td>0</td>\n",
       "      <td>0</td>\n",
       "      <td>0.0</td>\n",
       "      <td>158</td>\n",
       "    </tr>\n",
       "    <tr>\n",
       "      <th>4</th>\n",
       "      <td>0F023589499656230C5E3E2</td>\n",
       "      <td>909464</td>\n",
       "      <td>2013-09-14 18:38:39.097000000</td>\n",
       "      <td>NaN</td>\n",
       "      <td>36</td>\n",
       "      <td>Current</td>\n",
       "      <td>NaN</td>\n",
       "      <td>0.24614</td>\n",
       "      <td>0.2085</td>\n",
       "      <td>0.1985</td>\n",
       "      <td>...</td>\n",
       "      <td>-60.27</td>\n",
       "      <td>0.0</td>\n",
       "      <td>0.0</td>\n",
       "      <td>0.0</td>\n",
       "      <td>0.0</td>\n",
       "      <td>1.0</td>\n",
       "      <td>0</td>\n",
       "      <td>0</td>\n",
       "      <td>0.0</td>\n",
       "      <td>20</td>\n",
       "    </tr>\n",
       "    <tr>\n",
       "      <th>5</th>\n",
       "      <td>0F05359734824199381F61D</td>\n",
       "      <td>1074836</td>\n",
       "      <td>2013-12-14 08:26:37.093000000</td>\n",
       "      <td>NaN</td>\n",
       "      <td>60</td>\n",
       "      <td>Current</td>\n",
       "      <td>NaN</td>\n",
       "      <td>0.15425</td>\n",
       "      <td>0.1314</td>\n",
       "      <td>0.1214</td>\n",
       "      <td>...</td>\n",
       "      <td>-25.33</td>\n",
       "      <td>0.0</td>\n",
       "      <td>0.0</td>\n",
       "      <td>0.0</td>\n",
       "      <td>0.0</td>\n",
       "      <td>1.0</td>\n",
       "      <td>0</td>\n",
       "      <td>0</td>\n",
       "      <td>0.0</td>\n",
       "      <td>1</td>\n",
       "    </tr>\n",
       "    <tr>\n",
       "      <th>6</th>\n",
       "      <td>0F0A3576754255009D63151</td>\n",
       "      <td>750899</td>\n",
       "      <td>2013-04-12 09:52:56.147000000</td>\n",
       "      <td>NaN</td>\n",
       "      <td>36</td>\n",
       "      <td>Current</td>\n",
       "      <td>NaN</td>\n",
       "      <td>0.31032</td>\n",
       "      <td>0.2712</td>\n",
       "      <td>0.2612</td>\n",
       "      <td>...</td>\n",
       "      <td>-22.95</td>\n",
       "      <td>0.0</td>\n",
       "      <td>0.0</td>\n",
       "      <td>0.0</td>\n",
       "      <td>0.0</td>\n",
       "      <td>1.0</td>\n",
       "      <td>0</td>\n",
       "      <td>0</td>\n",
       "      <td>0.0</td>\n",
       "      <td>1</td>\n",
       "    </tr>\n",
       "    <tr>\n",
       "      <th>7</th>\n",
       "      <td>0F1035772717087366F9EA7</td>\n",
       "      <td>768193</td>\n",
       "      <td>2013-05-05 06:49:27.493000000</td>\n",
       "      <td>NaN</td>\n",
       "      <td>36</td>\n",
       "      <td>Current</td>\n",
       "      <td>NaN</td>\n",
       "      <td>0.23939</td>\n",
       "      <td>0.2019</td>\n",
       "      <td>0.1919</td>\n",
       "      <td>...</td>\n",
       "      <td>-69.21</td>\n",
       "      <td>0.0</td>\n",
       "      <td>0.0</td>\n",
       "      <td>0.0</td>\n",
       "      <td>0.0</td>\n",
       "      <td>1.0</td>\n",
       "      <td>0</td>\n",
       "      <td>0</td>\n",
       "      <td>0.0</td>\n",
       "      <td>1</td>\n",
       "    </tr>\n",
       "    <tr>\n",
       "      <th>8</th>\n",
       "      <td>0F043596202561788EA13D5</td>\n",
       "      <td>1023355</td>\n",
       "      <td>2013-12-02 10:43:39.117000000</td>\n",
       "      <td>NaN</td>\n",
       "      <td>36</td>\n",
       "      <td>Current</td>\n",
       "      <td>NaN</td>\n",
       "      <td>0.07620</td>\n",
       "      <td>0.0629</td>\n",
       "      <td>0.0529</td>\n",
       "      <td>...</td>\n",
       "      <td>-16.77</td>\n",
       "      <td>0.0</td>\n",
       "      <td>0.0</td>\n",
       "      <td>0.0</td>\n",
       "      <td>0.0</td>\n",
       "      <td>1.0</td>\n",
       "      <td>0</td>\n",
       "      <td>0</td>\n",
       "      <td>0.0</td>\n",
       "      <td>1</td>\n",
       "    </tr>\n",
       "    <tr>\n",
       "      <th>9</th>\n",
       "      <td>0F043596202561788EA13D5</td>\n",
       "      <td>1023355</td>\n",
       "      <td>2013-12-02 10:43:39.117000000</td>\n",
       "      <td>NaN</td>\n",
       "      <td>36</td>\n",
       "      <td>Current</td>\n",
       "      <td>NaN</td>\n",
       "      <td>0.07620</td>\n",
       "      <td>0.0629</td>\n",
       "      <td>0.0529</td>\n",
       "      <td>...</td>\n",
       "      <td>-16.77</td>\n",
       "      <td>0.0</td>\n",
       "      <td>0.0</td>\n",
       "      <td>0.0</td>\n",
       "      <td>0.0</td>\n",
       "      <td>1.0</td>\n",
       "      <td>0</td>\n",
       "      <td>0</td>\n",
       "      <td>0.0</td>\n",
       "      <td>1</td>\n",
       "    </tr>\n",
       "  </tbody>\n",
       "</table>\n",
       "<p>10 rows × 81 columns</p>\n",
       "</div>"
      ],
      "text/plain": [
       "                ListingKey  ListingNumber            ListingCreationDate  \\\n",
       "0  1021339766868145413AB3B         193129  2007-08-26 19:09:29.263000000   \n",
       "1  10273602499503308B223C1        1209647  2014-02-27 08:28:07.900000000   \n",
       "2  0EE9337825851032864889A          81716  2007-01-05 15:00:47.090000000   \n",
       "3  0EF5356002482715299901A         658116  2012-10-22 11:02:35.010000000   \n",
       "4  0F023589499656230C5E3E2         909464  2013-09-14 18:38:39.097000000   \n",
       "5  0F05359734824199381F61D        1074836  2013-12-14 08:26:37.093000000   \n",
       "6  0F0A3576754255009D63151         750899  2013-04-12 09:52:56.147000000   \n",
       "7  0F1035772717087366F9EA7         768193  2013-05-05 06:49:27.493000000   \n",
       "8  0F043596202561788EA13D5        1023355  2013-12-02 10:43:39.117000000   \n",
       "9  0F043596202561788EA13D5        1023355  2013-12-02 10:43:39.117000000   \n",
       "\n",
       "  CreditGrade  Term LoanStatus           ClosedDate  BorrowerAPR  \\\n",
       "0           C    36  Completed  2009-08-14 00:00:00      0.16516   \n",
       "1         NaN    36    Current                  NaN      0.12016   \n",
       "2          HR    36  Completed  2009-12-17 00:00:00      0.28269   \n",
       "3         NaN    36    Current                  NaN      0.12528   \n",
       "4         NaN    36    Current                  NaN      0.24614   \n",
       "5         NaN    60    Current                  NaN      0.15425   \n",
       "6         NaN    36    Current                  NaN      0.31032   \n",
       "7         NaN    36    Current                  NaN      0.23939   \n",
       "8         NaN    36    Current                  NaN      0.07620   \n",
       "9         NaN    36    Current                  NaN      0.07620   \n",
       "\n",
       "   BorrowerRate  LenderYield    ...     LP_ServiceFees  LP_CollectionFees  \\\n",
       "0        0.1580       0.1380    ...            -133.18                0.0   \n",
       "1        0.0920       0.0820    ...               0.00                0.0   \n",
       "2        0.2750       0.2400    ...             -24.20                0.0   \n",
       "3        0.0974       0.0874    ...            -108.01                0.0   \n",
       "4        0.2085       0.1985    ...             -60.27                0.0   \n",
       "5        0.1314       0.1214    ...             -25.33                0.0   \n",
       "6        0.2712       0.2612    ...             -22.95                0.0   \n",
       "7        0.2019       0.1919    ...             -69.21                0.0   \n",
       "8        0.0629       0.0529    ...             -16.77                0.0   \n",
       "9        0.0629       0.0529    ...             -16.77                0.0   \n",
       "\n",
       "   LP_GrossPrincipalLoss  LP_NetPrincipalLoss LP_NonPrincipalRecoverypayments  \\\n",
       "0                    0.0                  0.0                             0.0   \n",
       "1                    0.0                  0.0                             0.0   \n",
       "2                    0.0                  0.0                             0.0   \n",
       "3                    0.0                  0.0                             0.0   \n",
       "4                    0.0                  0.0                             0.0   \n",
       "5                    0.0                  0.0                             0.0   \n",
       "6                    0.0                  0.0                             0.0   \n",
       "7                    0.0                  0.0                             0.0   \n",
       "8                    0.0                  0.0                             0.0   \n",
       "9                    0.0                  0.0                             0.0   \n",
       "\n",
       "   PercentFunded  Recommendations InvestmentFromFriendsCount  \\\n",
       "0            1.0                0                          0   \n",
       "1            1.0                0                          0   \n",
       "2            1.0                0                          0   \n",
       "3            1.0                0                          0   \n",
       "4            1.0                0                          0   \n",
       "5            1.0                0                          0   \n",
       "6            1.0                0                          0   \n",
       "7            1.0                0                          0   \n",
       "8            1.0                0                          0   \n",
       "9            1.0                0                          0   \n",
       "\n",
       "  InvestmentFromFriendsAmount Investors  \n",
       "0                         0.0       258  \n",
       "1                         0.0         1  \n",
       "2                         0.0        41  \n",
       "3                         0.0       158  \n",
       "4                         0.0        20  \n",
       "5                         0.0         1  \n",
       "6                         0.0         1  \n",
       "7                         0.0         1  \n",
       "8                         0.0         1  \n",
       "9                         0.0         1  \n",
       "\n",
       "[10 rows x 81 columns]"
      ]
     },
     "execution_count": 4,
     "metadata": {},
     "output_type": "execute_result"
    }
   ],
   "source": [
    "loan_data.head(10)"
   ]
  },
  {
   "cell_type": "markdown",
   "metadata": {},
   "source": [
    "#Data Wrangling\n",
    "\n",
    "1. The dataset contains lots of missing values in columns:\n",
    "\n",
    "    TotalProsperLoans, TotalProsperPaymentsBilled, OnTimeProsperPayments\n",
    "    ProsperPaymentsLessThanOneMonthLate\n",
    "    ProsperPaymentsOneMonthPlusLate\n",
    "    ProsperPrincipalBorrowed\n",
    "    ProsperPrincipalOutstanding\n",
    "    ScorexChangeAtTimeOfListing\n",
    "    LoanFirstDefaultedCycleNumber\n",
    "    CreditGrade\n",
    "\n",
    "As I will not be using this data for my analysis, in the next section I will delete the above listed columns:"
   ]
  },
  {
   "cell_type": "code",
   "execution_count": 5,
   "metadata": {},
   "outputs": [
    {
     "data": {
      "text/plain": [
       "(113937, 71)"
      ]
     },
     "execution_count": 5,
     "metadata": {},
     "output_type": "execute_result"
    }
   ],
   "source": [
    "#remove columns not needed for analysis\n",
    "loan_data=loan_data.drop(['TotalProsperLoans','TotalProsperPaymentsBilled','OnTimeProsperPayments','ProsperPaymentsLessThanOneMonthLate','ProsperPaymentsOneMonthPlusLate','ProsperPrincipalBorrowed','ProsperPrincipalOutstanding','ScorexChangeAtTimeOfListing','ClosedDate','CreditGrade'],axis=1)\n",
    "loan_data.shape"
   ]
  },
  {
   "cell_type": "markdown",
   "metadata": {},
   "source": [
    "2. Column ListingCreationDate and LoanOriginationDate should be in date format\n",
    "     "
   ]
  },
  {
   "cell_type": "code",
   "execution_count": 6,
   "metadata": {},
   "outputs": [],
   "source": [
    "loan_data['LoanOriginationDate']=pd.to_datetime(loan_data['LoanOriginationDate'], yearfirst=True)\n"
   ]
  },
  {
   "cell_type": "code",
   "execution_count": 7,
   "metadata": {},
   "outputs": [
    {
     "data": {
      "text/plain": [
       "0   2007-09-12\n",
       "1   2014-03-03\n",
       "2   2007-01-17\n",
       "3   2012-11-01\n",
       "4   2013-09-20\n",
       "Name: LoanOriginationDate, dtype: datetime64[ns]"
      ]
     },
     "execution_count": 7,
     "metadata": {},
     "output_type": "execute_result"
    }
   ],
   "source": [
    "loan_data['LoanOriginationDate'].head()"
   ]
  },
  {
   "cell_type": "code",
   "execution_count": 8,
   "metadata": {},
   "outputs": [],
   "source": [
    "loan_data['ListingCreationDate']=pd.to_datetime(loan_data['ListingCreationDate'], yearfirst=True)\n"
   ]
  },
  {
   "cell_type": "code",
   "execution_count": 9,
   "metadata": {},
   "outputs": [],
   "source": [
    "loan_data['ListingCreationDate'] = [x.strftime(\"%y-%m-%d\") for x in loan_data.ListingCreationDate]"
   ]
  },
  {
   "cell_type": "code",
   "execution_count": 10,
   "metadata": {},
   "outputs": [],
   "source": [
    "loan_data['ListingCreationDate']=pd.to_datetime(loan_data['ListingCreationDate'], yearfirst=True)"
   ]
  },
  {
   "cell_type": "code",
   "execution_count": 11,
   "metadata": {},
   "outputs": [
    {
     "data": {
      "text/plain": [
       "0   2007-08-26\n",
       "1   2014-02-27\n",
       "2   2007-01-05\n",
       "3   2012-10-22\n",
       "4   2013-09-14\n",
       "Name: ListingCreationDate, dtype: datetime64[ns]"
      ]
     },
     "execution_count": 11,
     "metadata": {},
     "output_type": "execute_result"
    }
   ],
   "source": [
    "loan_data['ListingCreationDate'].head()"
   ]
  },
  {
   "cell_type": "markdown",
   "metadata": {},
   "source": [
    "### What is the structure of your dataset?\n",
    "\n",
    "After data wrangling efforts the dataset contains 113937 and 71 columns. Some variables which are strings will need to be converted to categories for further analysis. Information on loan amounts, and interest rates are in numeric values. \n",
    "\n",
    "### What is/are the main feature(s) of interest in your dataset?\n",
    "I am interested how interest rates are affected by various variables such as income level, state, loan type, term of the loan.\n",
    "A variable 'Prosper Rating\" and it relationship to interest rate is especially of interest, as it takes into account several variables such as credit score and income level.\n",
    "\n",
    "\n",
    "### What features in the dataset do you think will help support your investigation into your feature(s) of interest?\n",
    "\n",
    "> I am expecting that income level and employment status will have a big effect on interest rates.\n",
    "In addtion I would like to see the loan trends during and after during 2008 financial crisis.\n",
    "In addition, I am interested to see what are major drivers for loan defaults."
   ]
  },
  {
   "cell_type": "markdown",
   "metadata": {},
   "source": [
    "## Univariate Exploration\n",
    "\n",
    "> In this section, investigate distributions of individual variables. If\n",
    "you see unusual points or outliers, take a deeper look to clean things up\n",
    "and prepare yourself to look at relationships between variables.\n",
    "\n",
    "\n",
    "> **Rubric Tip**: The project (Parts I alone) should have at least 15 visualizations distributed over univariate, bivariate, and multivariate plots to explore many relationships in the data set.  Use reasoning to justify the flow of the exploration.\n",
    "\n",
    "\n",
    "\n",
    ">**Rubric Tip**: Use the \"Question-Visualization-Observations\" framework  throughout the exploration. This framework involves **asking a question from the data, creating a visualization to find answers, and then recording observations after each visualisation.** \n"
   ]
  },
  {
   "cell_type": "code",
   "execution_count": 12,
   "metadata": {},
   "outputs": [],
   "source": [
    "#2 Number of loans by year (create LoanYear Column)\n",
    "loan_data['year'] = pd.DatetimeIndex(loan_data['LoanOriginationDate']).year\n"
   ]
  },
  {
   "cell_type": "code",
   "execution_count": 13,
   "metadata": {},
   "outputs": [
    {
     "data": {
      "text/plain": [
       "(0.0, 0.4975)"
      ]
     },
     "execution_count": 13,
     "metadata": {},
     "output_type": "execute_result"
    }
   ],
   "source": [
    "#borrower's rate range\n",
    "loan_data['BorrowerRate'].min(), loan_data['BorrowerRate'].max()"
   ]
  },
  {
   "cell_type": "code",
   "execution_count": 14,
   "metadata": {},
   "outputs": [
    {
     "data": {
      "text/plain": [
       "Text(0.5,1,'Annual Loan Quantities')"
      ]
     },
     "execution_count": 14,
     "metadata": {},
     "output_type": "execute_result"
    },
    {
     "data": {
      "image/png": "[encoded data removed]",
      "text/plain": [
       "<matplotlib.figure.Figure at 0x7fb50dc91710>"
      ]
     },
     "metadata": {
      "needs_background": "light"
     },
     "output_type": "display_data"
    }
   ],
   "source": [
    "#plot 1 interest rates distribution\n",
    "plt.figure(figsize = [20, 5])\n",
    "plt.subplot(1,2,1)\n",
    "bins = np.arange(loan_data['BorrowerRate'].min(), loan_data['BorrowerRate'].max(), 0.01)\n",
    "plt.hist(data=loan_data, x='BorrowerRate',bins=bins);\n",
    "\n",
    "plt.xlabel('Interest Rate, %')\n",
    "\n",
    "plt.title('Distribution of Interest Rates')\n",
    "\n",
    "#plot 2 loan quantities by year\n",
    "plt.subplot(1,2,2)\n",
    "base_color = sb.color_palette()[0]\n",
    "sb.countplot(data=loan_data, x='year', color=base_color);\n",
    "\n",
    "plt.xlabel('Year')\n",
    "plt.title('Annual Loan Quantities')"
   ]
  },
  {
   "cell_type": "markdown",
   "metadata": {},
   "source": [
    "From the histograms above it looks like interest rates require more investigation. The majority of dataset values are between 5% and very high 30%. There is also a spike at 32%. Will be interesting to look at this by year, and what kind of borrowers have high interest rate loans.\n",
    "\n",
    "According to the second plot, quantity of loans had been increasing gradually after falling in 2009, the hihest quantity in 2013, then dropping in 2014."
   ]
  },
  {
   "cell_type": "code",
   "execution_count": 15,
   "metadata": {},
   "outputs": [],
   "source": [
    "state_order=loan_data['BorrowerState'].value_counts()\n"
   ]
  },
  {
   "cell_type": "markdown",
   "metadata": {},
   "source": [
    "Teh chart below shows number of loans per prosper rating. \n",
    "Further analysis will be performed how prosper rating affects interest rate on a loan. From this chart we can see that most loans are taken by prosper rating C. "
   ]
  },
  {
   "cell_type": "code",
   "execution_count": 218,
   "metadata": {},
   "outputs": [
    {
     "data": {
      "text/plain": [
       "Text(0.5,1,'Loan Distribution by Prosper Rating')"
      ]
     },
     "execution_count": 218,
     "metadata": {},
     "output_type": "execute_result"
    },
    {
     "data": {
      "image/png": "[encoded data removed]",
      "text/plain": [
       "<matplotlib.figure.Figure at 0x7fb50b32f7f0>"
      ]
     },
     "metadata": {
      "needs_background": "light"
     },
     "output_type": "display_data"
    }
   ],
   "source": [
    "plevels=loan_data['ProsperRating (Alpha)']=loan_data['ProsperRating (Alpha)'].astype(\"category\")\n",
    "plt.figure(figsize = [5, 5])\n",
    "base_color=sb.color_palette()[6]\n",
    "loan_data_prosrat=loan_data[loan_data['ProsperRating (Alpha)'].notnull()]\n",
    "# check distrubution of prosperity rating\n",
    "prosp_order=['HR','E','D','C','B','A','AA']\n",
    "sb.countplot(data=loan_data_prosrat,x='ProsperRating (Alpha)',order=prosp_order,color=base_color);\n",
    "plt.title(\"Loan Distribution by Prosper Rating\")\n"
   ]
  },
  {
   "cell_type": "markdown",
   "metadata": {},
   "source": [
    "The following chart shows number of loans by states. It looks like more loans are taken inthe state of California than anywhere esle. North Dacota is the state that borrowed the smalled quantity of loans. However, these information can be mileading as California is a state with a bigger population. Therefore, if we want to look more into this, we nees to calculated number of loans per 1000 poulation."
   ]
  },
  {
   "cell_type": "code",
   "execution_count": 22,
   "metadata": {
    "scrolled": true
   },
   "outputs": [
    {
     "data": {
      "text/plain": [
       "Text(0.5,1,'Number of Loans by State')"
      ]
     },
     "execution_count": 22,
     "metadata": {},
     "output_type": "execute_result"
    },
    {
     "data": {
      "image/png": "[encoded data removed]",
      "text/plain": [
       "<matplotlib.figure.Figure at 0x7fb50d79c7b8>"
      ]
     },
     "metadata": {
      "needs_background": "light"
     },
     "output_type": "display_data"
    }
   ],
   "source": [
    "# check number of loans by state\n",
    "plt.figure(figsize=[30,5])\n",
    "state_counts=loan_data['BorrowerState'].value_counts()\n",
    "\n",
    "state_order=state_counts.index;\n",
    "sb.countplot(data=loan_data,x='BorrowerState',order=state_order,color=base_color);\n",
    "plt.xticks(rotation=45);\n",
    "plt.title (\"Number of Loans by State\");"
   ]
  },
  {
   "cell_type": "markdown",
   "metadata": {},
   "source": [
    "In the next section I would like to explore a distribution of income of borrowers, and later how income level affects borrower's interest rate."
   ]
  },
  {
   "cell_type": "code",
   "execution_count": 25,
   "metadata": {},
   "outputs": [
    {
     "data": {
      "image/png": "[encoded data removed]",
      "text/plain": [
       "<matplotlib.figure.Figure at 0x7fb50d776cf8>"
      ]
     },
     "metadata": {
      "needs_background": "light"
     },
     "output_type": "display_data"
    }
   ],
   "source": [
    "#boxplot for the distrubution of monthly income  \n",
    "plt.figure(figsize=[5,5])\n",
    "plt.boxplot(loan_data['StatedMonthlyIncome']);\n",
    "plt.ylabel('Monthly income');\n",
    "plt.title('Distrubition of  Monthly Income');\n"
   ]
  },
  {
   "cell_type": "code",
   "execution_count": 75,
   "metadata": {},
   "outputs": [
    {
     "data": {
      "text/plain": [
       "count    112172.000000\n",
       "mean       5659.421045\n",
       "std        4364.869264\n",
       "min         100.000000\n",
       "25%        3333.333333\n",
       "50%        4733.333333\n",
       "75%        6833.333333\n",
       "max      250000.000000\n",
       "Name: StatedMonthlyIncome, dtype: float64"
      ]
     },
     "execution_count": 75,
     "metadata": {},
     "output_type": "execute_result"
    }
   ],
   "source": [
    "#from the boxplot it is clear that there are many outliers. AS it can be seen from the info below most of monthly income level falls under $7K\n",
    "#remove outliers with monthly income>20K\n",
    "loan_data_sub0=loan_data.loc[loan_data['StatedMonthlyIncome']<=250000]\n",
    "loan_data_sub=loan_data_sub0.loc[loan_data_sub0['StatedMonthlyIncome']>=100]\n",
    "loan_data_sub['StatedMonthlyIncome'].describe()"
   ]
  },
  {
   "cell_type": "code",
   "execution_count": 76,
   "metadata": {},
   "outputs": [],
   "source": [
    "# log transformation of monthly income function\n",
    "def log_trans(x, inverse = False):\n",
    "    if not inverse:\n",
    "        return np.log10(x)\n",
    "    else:\n",
    "        return 10 **x \n"
   ]
  },
  {
   "cell_type": "code",
   "execution_count": 77,
   "metadata": {},
   "outputs": [
    {
     "name": "stderr",
     "output_type": "stream",
     "text": [
      "/opt/conda/lib/python3.6/site-packages/ipykernel_launcher.py:2: SettingWithCopyWarning: \n",
      "A value is trying to be set on a copy of a slice from a DataFrame.\n",
      "Try using .loc[row_indexer,col_indexer] = value instead\n",
      "\n",
      "See the caveats in the documentation: http://pandas.pydata.org/pandas-docs/stable/indexing.html#indexing-view-versus-copy\n",
      "  \n"
     ]
    },
    {
     "data": {
      "text/plain": [
       "count    112172.000000\n",
       "mean          3.671302\n",
       "std           0.268274\n",
       "min           2.000000\n",
       "25%           3.522879\n",
       "50%           3.675167\n",
       "75%           3.834633\n",
       "max           5.397940\n",
       "Name: StatedMonthlyIncome_log10, dtype: float64"
      ]
     },
     "execution_count": 77,
     "metadata": {},
     "output_type": "execute_result"
    }
   ],
   "source": [
    "#apply log transformation to monthly income\n",
    "loan_data_sub['StatedMonthlyIncome_log10'] =loan_data_sub['StatedMonthlyIncome'].apply(log_trans)\n",
    "loan_data_sub['StatedMonthlyIncome_log10'].describe()\n",
    "\n"
   ]
  },
  {
   "cell_type": "code",
   "execution_count": 78,
   "metadata": {},
   "outputs": [
    {
     "data": {
      "text/plain": [
       "(2.0, 5.3979400086720375)"
      ]
     },
     "execution_count": 78,
     "metadata": {},
     "output_type": "execute_result"
    }
   ],
   "source": [
    "i_min=loan_data_sub['StatedMonthlyIncome_log10'].min()\n",
    "i_max=loan_data_sub['StatedMonthlyIncome_log10'].max()\n",
    "i_min,i_max"
   ]
  },
  {
   "cell_type": "code",
   "execution_count": 79,
   "metadata": {},
   "outputs": [
    {
     "data": {
      "image/png": "[encoded data removed]",
      "text/plain": [
       "<matplotlib.figure.Figure at 0x7fb50ae77fd0>"
      ]
     },
     "metadata": {
      "needs_background": "light"
     },
     "output_type": "display_data"
    }
   ],
   "source": [
    "#borrower's monthly income distribution\n",
    "bi = np.arange(loan_data_sub['StatedMonthlyIncome_log10'].min(),loan_data_sub['StatedMonthlyIncome_log10'].max(),0.01)\n",
    "plt.hist(data=loan_data_sub, x='StatedMonthlyIncome_log10', bins=bi);\n",
    "\n",
    "ticks=np.arange(loan_data_sub['StatedMonthlyIncome_log10'].min(),loan_data_sub['StatedMonthlyIncome_log10'].max(),0.25)\n",
    "labels0=(log_trans(ticks,inverse=True)).round(decimals=0)\n",
    "labels=['{}'.format(v) for v in labels0]\n",
    "plt.xticks(ticks,labels,rotation=45)\n",
    "plt.xlim([(i_min-0.02),(i_max+0.02)])\n",
    "plt.xlabel('Monthly Income, $')\n",
    "plt.title('Distribution of Monthly Income');"
   ]
  },
  {
   "cell_type": "markdown",
   "metadata": {},
   "source": [
    "Distribution of monthly income analysis is a chalenging exercise. There are many values equal to zero and some extreme outliers. For monthly income analysis more exploration is needed, as it may vary by state. This will be explored further in bivariate analysis."
   ]
  },
  {
   "cell_type": "markdown",
   "metadata": {},
   "source": [
    "\n",
    "\n",
    ">**Rubric Tip**: Visualizations should depict the data appropriately so that the plots are easily interpretable. You should choose an appropriate plot type, data encodings, and formatting as needed. The formatting may include setting/adding the title, labels, legend, and comments. Also, do not overplot or incorrectly plot ordinal data."
   ]
  },
  {
   "cell_type": "markdown",
   "metadata": {},
   "source": [
    "### Discuss the distribution(s) of your variable(s) of interest. Were there any unusual points? Did you need to perform any transformations?\n",
    "During Univariate analysis I discovered that variable of interest, borrower's interest rate can be can be as low as 0% as high as 49%. \n",
    "I was expecting that majority of the loans will  be taken between 2007 and 2008. Although, the quanties of the loans rose  after 2006, dropped after 2008, the biggest number of loans taken were in 2013. \n",
    "Another interesting fact is that most people who took loans are at Prosper rating level C level. \n",
    "In the next section I would like to explore a relatioship bw Prosper Rating and Interst rates charged. If rating affects interest rates, than the question is what affects rating. \n",
    "At this point my assumption is that Prosper rating is based on credit score, and monthly income.\n",
    "Distribution of loans by states shows that California has the highest count of loans. TO asnwer which state is the \"most borrowing state\", we need a size of population for each state. \n",
    "\n",
    "\n",
    "### Of the features you investigated, were there any unusual distributions? Did you perform any operations on the data to tidy, adjust, or change the form of the data? If so, why did you do this?\n",
    "\n",
    "Monthly income distribution is unusual, many entires of 0 monthly income, and some are very high, but majority of monthly income (75%) is below $7K.As there was a long tail on the right, I had to perform log transformation, and still data needs to be cleaned of outliers. \n",
    "\n",
    "If I decide to do further analysis based on this column, I would remove outliers, and monthly income analysis is performed for income rage $100-$50,000. We will explore in the next sections how monthly income is related to Prosper rating and interst rates.\n"
   ]
  },
  {
   "cell_type": "markdown",
   "metadata": {},
   "source": [
    "## Bivariate Exploration\n",
    "\n",
    "> In this section, investigate relationships between pairs of variables in your\n",
    "data. Make sure the variables that you cover here have been introduced in some\n",
    "fashion in the previous section (univariate exploration)."
   ]
  },
  {
   "cell_type": "markdown",
   "metadata": {},
   "source": [
    "In this section I will explore which variable have an affect on interst rates."
   ]
  },
  {
   "cell_type": "code",
   "execution_count": 34,
   "metadata": {},
   "outputs": [
    {
     "data": {
      "text/plain": [
       "<seaborn.axisgrid.FacetGrid at 0x7f1f99e39630>"
      ]
     },
     "execution_count": 34,
     "metadata": {},
     "output_type": "execute_result"
    },
    {
     "data": {
      "image/png": "[encoded data removed]",
      "text/plain": [
       "<matplotlib.figure.Figure at 0x7f1f99e39128>"
      ]
     },
     "metadata": {
      "needs_background": "light"
     },
     "output_type": "display_data"
    }
   ],
   "source": [
    "#Relationship bw interest rates and prosper rating\n",
    "g = sb.FacetGrid(data = loan_data_prosrat, col = 'ProsperRating (Alpha)', col_order=prosp_order)\n",
    "g.map(plt.hist, 'BorrowerRate')"
   ]
  },
  {
   "cell_type": "markdown",
   "metadata": {},
   "source": [
    "From the chart above we can see that as Prosper rating get higher (AA being the highest), borrower's interest range moves to the left. The lowest rating pays the higest interest."
   ]
  },
  {
   "cell_type": "markdown",
   "metadata": {},
   "source": [
    "The chart below shows that interest rate differe by borrower's place of residence.\n",
    "The higest average interst rate paind by the state of Alabama, and the lowest inters rate is in Iowa."
   ]
  },
  {
   "cell_type": "code",
   "execution_count": 48,
   "metadata": {},
   "outputs": [
    {
     "data": {
      "image/png": "[encoded data removed]",
      "text/plain": [
       "<matplotlib.figure.Figure at 0x7fb50c56d390>"
      ]
     },
     "metadata": {
      "needs_background": "light"
     },
     "output_type": "display_data"
    }
   ],
   "source": [
    "#average interest rates by state\n",
    "plt.figure(figsize=[20,5])\n",
    "\n",
    "aver_intrate=loan_data.groupby(['BorrowerState'])['BorrowerRate'].mean().sort_values(ascending=[False])\n",
    "vert=(aver_intrate.values*100).round(2)\n",
    "hor=aver_intrate.index.astype('category')\n",
    "ax=sb.barplot(hor,vert, order=hor,color=base_color)\n",
    "ax.set_ylim([vert.min()-1.1,vert.max()+1.1]);\n",
    "plt.xlabel('State')\n",
    "plt.ylabel('Interest Rate, %')\n",
    "plt.title('Average Inerest Rates by State');"
   ]
  },
  {
   "cell_type": "markdown",
   "metadata": {},
   "source": [
    "The charts below show how interest rates changed over time. The highest interst rate range being in 2006, and gradually decreasing by 2014. \n",
    "The heat chart shows the most borrowing occuring in 2014 between 10% and 20%"
   ]
  },
  {
   "cell_type": "code",
   "execution_count": 157,
   "metadata": {},
   "outputs": [
    {
     "data": {
      "text/plain": [
       "Text(0.5,1,'Interest Rates Trend')"
      ]
     },
     "execution_count": 157,
     "metadata": {},
     "output_type": "execute_result"
    },
    {
     "data": {
      "image/png": "[encoded data removed]",
      "text/plain": [
       "<matplotlib.figure.Figure at 0x7fb50b1815c0>"
      ]
     },
     "metadata": {
      "needs_background": "light"
     },
     "output_type": "display_data"
    }
   ],
   "source": [
    "plt.figure(figsize=[25,5])\n",
    "plt.subplot(1,2,1)\n",
    "plt.scatter(data = loan_data, x = 'year', y = 'BorrowerRate',alpha = 1/10);\n",
    "plt.ylabel('Interest Rate, %')\n",
    "plt.title('Interest Rates Trend')\n",
    "\n",
    "plt.subplot(1,2,2)\n",
    "plt.hist2d(data = loan_data, x = 'year', y = 'BorrowerRate',cmin=0.05,cmap='viridis_r')\n",
    "plt.colorbar()\n",
    "ti=np.arange(loan_data['year'].min(),loan_data['year'].max()+1,1)\n",
    "plt.xticks(ti, rotation=90);\n",
    "plt.ylabel('Interest Rate, %');\n",
    "\n",
    "plt.title('Interest Rates Trend')"
   ]
  },
  {
   "cell_type": "markdown",
   "metadata": {},
   "source": [
    "The code below breaks interest rates by loan category to explore which loans pay the highest interst rates."
   ]
  },
  {
   "cell_type": "code",
   "execution_count": 59,
   "metadata": {},
   "outputs": [],
   "source": [
    "#explore borrowing by loan type\n",
    "loan_type_sub=loan_data[loan_data['ListingCategory (numeric)']!=0]\n"
   ]
  },
  {
   "cell_type": "code",
   "execution_count": 62,
   "metadata": {},
   "outputs": [],
   "source": [
    "LoanCat={1:'Debt Consolidation', 2:'Home Improvement', 3:'Business',4:'Personal Loan',5:'Student Use',6:'Auto',\n",
    "                   7:'Other',8:'Baby&Adoption',9:'Boat',10:'Cosmetic Procedures',11:'Engagement Ring', 12:'Green Loans',13:'Household Expenses',14:'Large Purchases',15:'Medical/Dental',16:'Motocycle',\n",
    "                   17:'RV',18:'Taxes',19:'Vacation',20:'Wedding Loans'}"
   ]
  },
  {
   "cell_type": "code",
   "execution_count": 63,
   "metadata": {},
   "outputs": [
    {
     "name": "stderr",
     "output_type": "stream",
     "text": [
      "/opt/conda/lib/python3.6/site-packages/ipykernel_launcher.py:1: SettingWithCopyWarning: \n",
      "A value is trying to be set on a copy of a slice from a DataFrame.\n",
      "Try using .loc[row_indexer,col_indexer] = value instead\n",
      "\n",
      "See the caveats in the documentation: http://pandas.pydata.org/pandas-docs/stable/indexing.html#indexing-view-versus-copy\n",
      "  \"\"\"Entry point for launching an IPython kernel.\n"
     ]
    }
   ],
   "source": [
    "loan_type_sub['ListingCategory (alpha)']=loan_type_sub['ListingCategory (numeric)'].map(LoanCat);\n"
   ]
  },
  {
   "cell_type": "code",
   "execution_count": 64,
   "metadata": {},
   "outputs": [
    {
     "data": {
      "text/plain": [
       "array(['Home Improvement', 'Motocycle', 'Debt Consolidation', 'Other',\n",
       "       'Household Expenses', 'Auto', 'Medical/Dental', 'Wedding Loans',\n",
       "       'Vacation', 'Business', 'Taxes', 'Baby&Adoption', 'Personal Loan',\n",
       "       'Engagement Ring', 'Large Purchases', 'Student Use', 'Boat', 'RV',\n",
       "       'Cosmetic Procedures', 'Green Loans'], dtype=object)"
      ]
     },
     "execution_count": 64,
     "metadata": {},
     "output_type": "execute_result"
    }
   ],
   "source": [
    "loan_type_sub['ListingCategory (alpha)'].unique()"
   ]
  },
  {
   "cell_type": "code",
   "execution_count": 65,
   "metadata": {},
   "outputs": [],
   "source": [
    "load_int_mean=loan_type_sub.groupby('ListingCategory (alpha)')['BorrowerRate'].mean().sort_values()"
   ]
  },
  {
   "cell_type": "code",
   "execution_count": 66,
   "metadata": {},
   "outputs": [
    {
     "data": {
      "text/plain": [
       "array([ 0.17398118,  0.18060735,  0.18574573,  0.18826132,  0.19091975,\n",
       "        0.19605346,  0.19758289,  0.19817729,  0.20024576,  0.20059737,\n",
       "        0.2052496 ,  0.20652249,  0.20655006,  0.20680463,  0.207325  ,\n",
       "        0.20750521,  0.20908482,  0.21341434,  0.22375601,  0.22594835])"
      ]
     },
     "execution_count": 66,
     "metadata": {},
     "output_type": "execute_result"
    }
   ],
   "source": [
    "load_int_mean.values"
   ]
  },
  {
   "cell_type": "code",
   "execution_count": 67,
   "metadata": {},
   "outputs": [
    {
     "data": {
      "image/png": "[encoded data removed]",
      "text/plain": [
       "<matplotlib.figure.Figure at 0x7fb50ba5b8d0>"
      ]
     },
     "metadata": {
      "needs_background": "light"
     },
     "output_type": "display_data"
    }
   ],
   "source": [
    "v=(load_int_mean.values*100).round(2)\n",
    "h=load_int_mean.index.astype('category')\n",
    "ax=sb.barplot(h,v, order=h,color=base_color)\n",
    "ax.set_ylim([v.min()-1.1,v.max()+1.1]);\n",
    "plt.xlabel('Loan Type')\n",
    "plt.ylabel('Interest Rate, %')\n",
    "plt.title('Average Inerest Rates by Loan Type');\n",
    "plt.xticks(rotation=90);"
   ]
  },
  {
   "cell_type": "markdown",
   "metadata": {},
   "source": [
    "Interest Rates by Loan Type chart shows that the highest interst rates are paid for Cosmetic procedures, Household Expenses, Medical/Dental Expenses and Other.\n"
   ]
  },
  {
   "cell_type": "markdown",
   "metadata": {},
   "source": [
    "To explore a relationship between income and Prosper rating a subset of data is created for rows which have Prosper Rating.\n",
    "THe assumption is that one of the variable that affects Prosper rating is monthly income.\n",
    "Average of log transformed income level by rating is calculated, and Prosper rating is ploted against average income level on log scale."
   ]
  },
  {
   "cell_type": "code",
   "execution_count": 81,
   "metadata": {},
   "outputs": [
    {
     "data": {
      "text/plain": [
       "(84066, 73)"
      ]
     },
     "execution_count": 81,
     "metadata": {},
     "output_type": "execute_result"
    }
   ],
   "source": [
    "loan_data_rate=loan_data_sub[loan_data_sub['ProsperRating (Alpha)'].notnull()]\n",
    "loan_data_rate.shape"
   ]
  },
  {
   "cell_type": "code",
   "execution_count": 94,
   "metadata": {},
   "outputs": [
    {
     "data": {
      "text/html": [
       "<div>\n",
       "<style scoped>\n",
       "    .dataframe tbody tr th:only-of-type {\n",
       "        vertical-align: middle;\n",
       "    }\n",
       "\n",
       "    .dataframe tbody tr th {\n",
       "        vertical-align: top;\n",
       "    }\n",
       "\n",
       "    .dataframe thead th {\n",
       "        text-align: right;\n",
       "    }\n",
       "</style>\n",
       "<table border=\"1\" class=\"dataframe\">\n",
       "  <thead>\n",
       "    <tr style=\"text-align: right;\">\n",
       "      <th></th>\n",
       "      <th>ProsperRating (Alpha)</th>\n",
       "      <th>StatedMonthlyIncome_log10</th>\n",
       "    </tr>\n",
       "  </thead>\n",
       "  <tbody>\n",
       "    <tr>\n",
       "      <th>0</th>\n",
       "      <td>A</td>\n",
       "      <td>3.764205</td>\n",
       "    </tr>\n",
       "    <tr>\n",
       "      <th>1</th>\n",
       "      <td>AA</td>\n",
       "      <td>3.823784</td>\n",
       "    </tr>\n",
       "    <tr>\n",
       "      <th>2</th>\n",
       "      <td>B</td>\n",
       "      <td>3.741271</td>\n",
       "    </tr>\n",
       "    <tr>\n",
       "      <th>3</th>\n",
       "      <td>C</td>\n",
       "      <td>3.697901</td>\n",
       "    </tr>\n",
       "    <tr>\n",
       "      <th>4</th>\n",
       "      <td>D</td>\n",
       "      <td>3.645114</td>\n",
       "    </tr>\n",
       "    <tr>\n",
       "      <th>5</th>\n",
       "      <td>E</td>\n",
       "      <td>3.626372</td>\n",
       "    </tr>\n",
       "    <tr>\n",
       "      <th>6</th>\n",
       "      <td>HR</td>\n",
       "      <td>3.583472</td>\n",
       "    </tr>\n",
       "  </tbody>\n",
       "</table>\n",
       "</div>"
      ],
      "text/plain": [
       "  ProsperRating (Alpha)  StatedMonthlyIncome_log10\n",
       "0                     A                   3.764205\n",
       "1                    AA                   3.823784\n",
       "2                     B                   3.741271\n",
       "3                     C                   3.697901\n",
       "4                     D                   3.645114\n",
       "5                     E                   3.626372\n",
       "6                    HR                   3.583472"
      ]
     },
     "execution_count": 94,
     "metadata": {},
     "output_type": "execute_result"
    }
   ],
   "source": [
    "aver_intrate_rating=pd.DataFrame(loan_data_rate.groupby('ProsperRating (Alpha)')['StatedMonthlyIncome_log10'].mean()).reset_index() \n"
   ]
  },
  {
   "cell_type": "code",
   "execution_count": 156,
   "metadata": {},
   "outputs": [
    {
     "data": {
      "image/png": "[encoded data removed]",
      "text/plain": [
       "<matplotlib.figure.Figure at 0x7fb502d30668>"
      ]
     },
     "metadata": {
      "needs_background": "light"
     },
     "output_type": "display_data"
    }
   ],
   "source": [
    "h_p=aver_intrate_rating['ProsperRating (Alpha)']\n",
    "v_p=aver_intrate_rating['StatedMonthlyIncome_log10']\n",
    "sb.barplot(h_p,v_p, order=prosp_order,color=base_color)\n",
    "\n",
    "plt.xlabel('Prosper Rating Level')\n",
    "plt.ylabel('Average Monthly Income, $')\n",
    "plt.title('Average Monthly Income by Prosper Rating');\n",
    "plt.ylim([v_p.min()-.1,v_p.max()+.1]);\n",
    "ticks_i=np.arange(v_p.min()-.1,v_p.max()+0.1,.1)\n",
    "labels_in=(log_trans(ticks_i,inverse=True)).round(decimals=0)\n",
    "labels_inc=['{}'.format(v) for v in labels_in]\n",
    "plt.yticks(ticks_i,labels_inc);\n"
   ]
  },
  {
   "cell_type": "markdown",
   "metadata": {},
   "source": [
    "The chart Average Monthly Income by Prosper Rating shows that the higher is borrowers monthly income the higher is the rating. "
   ]
  },
  {
   "cell_type": "markdown",
   "metadata": {},
   "source": [
    "Talk about some of the relationships you observed in this part of the investigation. How did the feature(s) of interest vary with other features in the dataset?\n",
    "The bivariate data analysis showed that borrower’s interest rate is largely affected by the state where she/he lives, type of loan, and Prosper rating score. One of the determinants of rating score is income level. The higher income level, the higher is borrower’s score, Prosper rating level determines the rate at which borrower has the loan.\n",
    "\n",
    "Did you observe any interesting relationships between the other features (not the main feature(s) of interest)?\n",
    "\n",
    "> One interesting observation is that interest rate depends on a purpose of the loan. The highest interest rate is charged for cosmetic procedures and  household expenses, while the lowest are on borrowing for buying a boat."
   ]
  },
  {
   "cell_type": "markdown",
   "metadata": {},
   "source": [
    "## Multivariate Exploration\n",
    "\n",
    "> Create plots of three or more variables to investigate your data even\n",
    "further. Make sure that your investigations are justified, and follow from\n",
    "your work in the previous sections."
   ]
  },
  {
   "cell_type": "markdown",
   "metadata": {},
   "source": [
    "In bivariate section we saw taht borrower's interst rate depends on the state of residence, Alabama haivng the highest interest rates. The chart below introduces a third variabel, loan term to explore further this finding."
   ]
  },
  {
   "cell_type": "code",
   "execution_count": 171,
   "metadata": {},
   "outputs": [],
   "source": [
    "aver_intrate_m=pd.DataFrame(loan_data.groupby(['Term','BorrowerState'])['BorrowerRate'].mean()).reset_index()"
   ]
  },
  {
   "cell_type": "code",
   "execution_count": 172,
   "metadata": {},
   "outputs": [
    {
     "name": "stdout",
     "output_type": "stream",
     "text": [
      "<class 'pandas.core.frame.DataFrame'>\n",
      "RangeIndex: 146 entries, 0 to 145\n",
      "Data columns (total 3 columns):\n",
      "Term             146 non-null int64\n",
      "BorrowerState    146 non-null object\n",
      "BorrowerRate     146 non-null float64\n",
      "dtypes: float64(1), int64(1), object(1)\n",
      "memory usage: 3.5+ KB\n"
     ]
    }
   ],
   "source": [
    "aver_intrate_m.info()"
   ]
  },
  {
   "cell_type": "code",
   "execution_count": 173,
   "metadata": {},
   "outputs": [
    {
     "data": {
      "text/plain": [
       "<seaborn.axisgrid.FacetGrid at 0x7fb4fd06a5c0>"
      ]
     },
     "execution_count": 173,
     "metadata": {},
     "output_type": "execute_result"
    },
    {
     "data": {
      "image/png": "[encoded data removed]",
      "text/plain": [
       "<matplotlib.figure.Figure at 0x7fb4fd07ac50>"
      ]
     },
     "metadata": {
      "needs_background": "light"
     },
     "output_type": "display_data"
    }
   ],
   "source": [
    "g = sb.FacetGrid(data = aver_intrate_m, col = 'Term',col_wrap=3,margin_titles = True)\n",
    "g.fig.set_size_inches(30,5)\n",
    "g.map(plt.bar,'BorrowerState','BorrowerRate')\n",
    "g.set_xticklabels(rotation=90)"
   ]
  },
  {
   "cell_type": "markdown",
   "metadata": {},
   "source": [
    "The result is different depending on the term of the loan. Alabama is still paying higher interest rates, but only for 36 month long loan.\n",
    "For 12 month long loan West Virginia is paying highest rate and 60 month loand Arkansas pays the highest. "
   ]
  },
  {
   "cell_type": "markdown",
   "metadata": {},
   "source": [
    "The next set of charts explores relationships bewtween loan term, rating and borrower's interest rate.\n",
    "So far, it is clear that interest rates depend on a rating an individual receives. \n",
    "The question here is how much rates differ by loan term and rating.  "
   ]
  },
  {
   "cell_type": "code",
   "execution_count": 211,
   "metadata": {},
   "outputs": [
    {
     "name": "stderr",
     "output_type": "stream",
     "text": [
      "/opt/conda/lib/python3.6/site-packages/seaborn/axisgrid.py:703: UserWarning: Using the boxplot function without specifying `order` is likely to produce an incorrect plot.\n",
      "  warnings.warn(warning)\n"
     ]
    },
    {
     "data": {
      "text/plain": [
       "<seaborn.axisgrid.FacetGrid at 0x7fb4f896c358>"
      ]
     },
     "execution_count": 211,
     "metadata": {},
     "output_type": "execute_result"
    },
    {
     "data": {
      "image/png": "[encoded data removed]",
      "text/plain": [
       "<matplotlib.figure.Figure at 0x7fb4f896c5c0>"
      ]
     },
     "metadata": {
      "needs_background": "light"
     },
     "output_type": "display_data"
    }
   ],
   "source": [
    "#interest rates by prosper rating and term\n",
    "g = sb.FacetGrid(data = loan_data_prosrat, col = 'ProsperRating (Alpha)',col_order=prosp_order)\n",
    "g.map(sb.boxplot,'Term','BorrowerRate')\n",
    "\n",
    "\n"
   ]
  },
  {
   "cell_type": "markdown",
   "metadata": {},
   "source": [
    "From the chart above looks like boxplot for HR rating doesn't show 36 and 60 months term. I will ry to explore the relationship separately."
   ]
  },
  {
   "cell_type": "code",
   "execution_count": 226,
   "metadata": {},
   "outputs": [
    {
     "data": {
      "text/plain": [
       "15        36\n",
       "22        36\n",
       "31        36\n",
       "71        36\n",
       "88        36\n",
       "94        36\n",
       "100       36\n",
       "107       36\n",
       "110       36\n",
       "112       36\n",
       "157       36\n",
       "166       36\n",
       "186       36\n",
       "200       36\n",
       "212       36\n",
       "265       36\n",
       "266       36\n",
       "269       36\n",
       "280       36\n",
       "306       36\n",
       "316       36\n",
       "328       36\n",
       "335       36\n",
       "354       36\n",
       "363       36\n",
       "364       36\n",
       "379       36\n",
       "416       36\n",
       "419       36\n",
       "449       36\n",
       "          ..\n",
       "113562    36\n",
       "113566    36\n",
       "113567    36\n",
       "113572    36\n",
       "113610    36\n",
       "113612    36\n",
       "113617    36\n",
       "113620    36\n",
       "113625    36\n",
       "113653    36\n",
       "113665    36\n",
       "113669    36\n",
       "113672    36\n",
       "113698    36\n",
       "113710    36\n",
       "113718    36\n",
       "113730    36\n",
       "113742    36\n",
       "113751    36\n",
       "113754    36\n",
       "113770    36\n",
       "113780    36\n",
       "113802    36\n",
       "113808    36\n",
       "113842    36\n",
       "113866    36\n",
       "113873    36\n",
       "113905    36\n",
       "113907    36\n",
       "113920    36\n",
       "Name: Term, Length: 6935, dtype: int64"
      ]
     },
     "execution_count": 226,
     "metadata": {},
     "output_type": "execute_result"
    }
   ],
   "source": [
    "loan_data_HR=loan_data_prosrat[loan_data_prosrat['ProsperRating (Alpha)']=='HR']\n",
    "loan_data_HR['Term']"
   ]
  },
  {
   "cell_type": "code",
   "execution_count": 225,
   "metadata": {},
   "outputs": [
    {
     "data": {
      "text/plain": [
       "array([36])"
      ]
     },
     "execution_count": 225,
     "metadata": {},
     "output_type": "execute_result"
    }
   ],
   "source": [
    "loan_data_HR['Term'].unique()"
   ]
  },
  {
   "cell_type": "code",
   "execution_count": 224,
   "metadata": {},
   "outputs": [
    {
     "data": {
      "text/plain": [
       "<matplotlib.axes._subplots.AxesSubplot at 0x7fb4f9c90c50>"
      ]
     },
     "execution_count": 224,
     "metadata": {},
     "output_type": "execute_result"
    },
    {
     "data": {
      "image/png": "[encoded data removed]",
      "text/plain": [
       "<matplotlib.figure.Figure at 0x7fb4f9e142b0>"
      ]
     },
     "metadata": {
      "needs_background": "light"
     },
     "output_type": "display_data"
    }
   ],
   "source": [
    "#interest rates by prosper rating and term\n",
    "\n",
    "sb.boxplot(data=loan_data_HR,x='Term',y='BorrowerRate')\n"
   ]
  },
  {
   "cell_type": "markdown",
   "metadata": {},
   "source": [
    "THe following plot zooms into previos finding for interest rates over time. It confirms that interest rates were the lowest in 2005, however, 12 months and 60 months loans became avalable only starting 2010. \n",
    "The interest rates for 36 and 60 month loans started falling in 2012 and 2013, except for 12 month loans.\n",
    "In general, 12 months loans have the lowest interest rate, and 36 months loans the highest."
   ]
  },
  {
   "cell_type": "code",
   "execution_count": 59,
   "metadata": {},
   "outputs": [
    {
     "data": {
      "text/plain": [
       "<matplotlib.legend.Legend at 0x7f1f8d5de550>"
      ]
     },
     "execution_count": 59,
     "metadata": {},
     "output_type": "execute_result"
    },
    {
     "data": {
      "image/png": "[encoded data removed]",
      "text/plain": [
       "<matplotlib.figure.Figure at 0x7f1f82216438>"
      ]
     },
     "metadata": {
      "needs_background": "light"
     },
     "output_type": "display_data"
    }
   ],
   "source": [
    "#interest year by term and year\n",
    "ax = sb.barplot(data = loan_data, x = 'year', y = 'BorrowerRate', hue = 'Term',palette=[\"C0\", \"C6\", \"C7\"])\n",
    "ax.legend(loc = 2, ncol = 3, framealpha =1, title = 'Borrower Rate by Term Trend')\n"
   ]
  },
  {
   "cell_type": "markdown",
   "metadata": {},
   "source": [
    "In the next section I would like to see how credit score affects borrowers rate and whether Prosper rating matters to for a better interest rate deal.\n",
    "Credit score are classified by classes, which are assigned based on lower end of credit score.\n",
    "\n",
    "300-559 = Poor\n",
    "580-669 = Fair\n",
    "670-739 = Good\n",
    "740-799 = Very Good\n",
    "780 and more = Excellent"
   ]
  },
  {
   "cell_type": "code",
   "execution_count": 234,
   "metadata": {},
   "outputs": [
    {
     "name": "stderr",
     "output_type": "stream",
     "text": [
      "/opt/conda/lib/python3.6/site-packages/ipykernel_launcher.py:2: UserWarning: Boolean Series key will be reindexed to match DataFrame index.\n",
      "  \n"
     ]
    }
   ],
   "source": [
    "#create a data set with avalable credit scores\n",
    "loan_data_cs=loan_data_prosrat[loan_data['CreditScoreRangeLower']!=0]"
   ]
  },
  {
   "cell_type": "code",
   "execution_count": 235,
   "metadata": {},
   "outputs": [],
   "source": [
    "result = []\n",
    "\n",
    "for value in loan_data_cs ['CreditScoreRangeLower']:\n",
    "    if value ==300:\n",
    "        result.append('Not Available')\n",
    "    elif value < 580 and value >=300:\n",
    "        result.append('Poor')\n",
    "    elif value < 670 and value >=580:\n",
    "        result.append('Fair')\n",
    "    elif value < 740 and value >=670:\n",
    "        result.append('Good')\n",
    "    elif value < 800 and value >=740:\n",
    "        result.append('Very good')\n",
    "    else:\n",
    "       result.append('Excelent')"
   ]
  },
  {
   "cell_type": "code",
   "execution_count": 240,
   "metadata": {},
   "outputs": [],
   "source": [
    "loan_data_cs['CreditScore_Class']=result"
   ]
  },
  {
   "cell_type": "code",
   "execution_count": 241,
   "metadata": {
    "scrolled": true
   },
   "outputs": [
    {
     "data": {
      "text/html": [
       "<div>\n",
       "<style scoped>\n",
       "    .dataframe tbody tr th:only-of-type {\n",
       "        vertical-align: middle;\n",
       "    }\n",
       "\n",
       "    .dataframe tbody tr th {\n",
       "        vertical-align: top;\n",
       "    }\n",
       "\n",
       "    .dataframe thead th {\n",
       "        text-align: right;\n",
       "    }\n",
       "</style>\n",
       "<table border=\"1\" class=\"dataframe\">\n",
       "  <thead>\n",
       "    <tr style=\"text-align: right;\">\n",
       "      <th></th>\n",
       "      <th>CreditScore_Class</th>\n",
       "      <th>ProsperRating (Alpha)</th>\n",
       "      <th>BorrowerRate</th>\n",
       "    </tr>\n",
       "  </thead>\n",
       "  <tbody>\n",
       "    <tr>\n",
       "      <th>0</th>\n",
       "      <td>Excelent</td>\n",
       "      <td>A</td>\n",
       "      <td>0.109295</td>\n",
       "    </tr>\n",
       "    <tr>\n",
       "      <th>1</th>\n",
       "      <td>Excelent</td>\n",
       "      <td>AA</td>\n",
       "      <td>0.078736</td>\n",
       "    </tr>\n",
       "    <tr>\n",
       "      <th>2</th>\n",
       "      <td>Excelent</td>\n",
       "      <td>B</td>\n",
       "      <td>0.147165</td>\n",
       "    </tr>\n",
       "    <tr>\n",
       "      <th>3</th>\n",
       "      <td>Excelent</td>\n",
       "      <td>C</td>\n",
       "      <td>0.204031</td>\n",
       "    </tr>\n",
       "    <tr>\n",
       "      <th>4</th>\n",
       "      <td>Excelent</td>\n",
       "      <td>D</td>\n",
       "      <td>0.249575</td>\n",
       "    </tr>\n",
       "    <tr>\n",
       "      <th>5</th>\n",
       "      <td>Excelent</td>\n",
       "      <td>E</td>\n",
       "      <td>0.312442</td>\n",
       "    </tr>\n",
       "    <tr>\n",
       "      <th>6</th>\n",
       "      <td>Excelent</td>\n",
       "      <td>HR</td>\n",
       "      <td>0.316460</td>\n",
       "    </tr>\n",
       "    <tr>\n",
       "      <th>7</th>\n",
       "      <td>Fair</td>\n",
       "      <td>A</td>\n",
       "      <td>0.114742</td>\n",
       "    </tr>\n",
       "    <tr>\n",
       "      <th>8</th>\n",
       "      <td>Fair</td>\n",
       "      <td>B</td>\n",
       "      <td>0.150491</td>\n",
       "    </tr>\n",
       "    <tr>\n",
       "      <th>9</th>\n",
       "      <td>Fair</td>\n",
       "      <td>C</td>\n",
       "      <td>0.188139</td>\n",
       "    </tr>\n",
       "    <tr>\n",
       "      <th>10</th>\n",
       "      <td>Fair</td>\n",
       "      <td>D</td>\n",
       "      <td>0.243853</td>\n",
       "    </tr>\n",
       "    <tr>\n",
       "      <th>11</th>\n",
       "      <td>Fair</td>\n",
       "      <td>E</td>\n",
       "      <td>0.292724</td>\n",
       "    </tr>\n",
       "    <tr>\n",
       "      <th>12</th>\n",
       "      <td>Fair</td>\n",
       "      <td>HR</td>\n",
       "      <td>0.317244</td>\n",
       "    </tr>\n",
       "    <tr>\n",
       "      <th>13</th>\n",
       "      <td>Good</td>\n",
       "      <td>A</td>\n",
       "      <td>0.109167</td>\n",
       "    </tr>\n",
       "    <tr>\n",
       "      <th>14</th>\n",
       "      <td>Good</td>\n",
       "      <td>AA</td>\n",
       "      <td>0.077930</td>\n",
       "    </tr>\n",
       "    <tr>\n",
       "      <th>15</th>\n",
       "      <td>Good</td>\n",
       "      <td>B</td>\n",
       "      <td>0.149636</td>\n",
       "    </tr>\n",
       "    <tr>\n",
       "      <th>16</th>\n",
       "      <td>Good</td>\n",
       "      <td>C</td>\n",
       "      <td>0.189954</td>\n",
       "    </tr>\n",
       "    <tr>\n",
       "      <th>17</th>\n",
       "      <td>Good</td>\n",
       "      <td>D</td>\n",
       "      <td>0.246725</td>\n",
       "    </tr>\n",
       "    <tr>\n",
       "      <th>18</th>\n",
       "      <td>Good</td>\n",
       "      <td>E</td>\n",
       "      <td>0.298809</td>\n",
       "    </tr>\n",
       "    <tr>\n",
       "      <th>19</th>\n",
       "      <td>Good</td>\n",
       "      <td>HR</td>\n",
       "      <td>0.317350</td>\n",
       "    </tr>\n",
       "    <tr>\n",
       "      <th>20</th>\n",
       "      <td>Very good</td>\n",
       "      <td>A</td>\n",
       "      <td>0.107832</td>\n",
       "    </tr>\n",
       "    <tr>\n",
       "      <th>21</th>\n",
       "      <td>Very good</td>\n",
       "      <td>AA</td>\n",
       "      <td>0.074962</td>\n",
       "    </tr>\n",
       "    <tr>\n",
       "      <th>22</th>\n",
       "      <td>Very good</td>\n",
       "      <td>B</td>\n",
       "      <td>0.151131</td>\n",
       "    </tr>\n",
       "    <tr>\n",
       "      <th>23</th>\n",
       "      <td>Very good</td>\n",
       "      <td>C</td>\n",
       "      <td>0.198505</td>\n",
       "    </tr>\n",
       "    <tr>\n",
       "      <th>24</th>\n",
       "      <td>Very good</td>\n",
       "      <td>D</td>\n",
       "      <td>0.251144</td>\n",
       "    </tr>\n",
       "    <tr>\n",
       "      <th>25</th>\n",
       "      <td>Very good</td>\n",
       "      <td>E</td>\n",
       "      <td>0.296246</td>\n",
       "    </tr>\n",
       "    <tr>\n",
       "      <th>26</th>\n",
       "      <td>Very good</td>\n",
       "      <td>HR</td>\n",
       "      <td>0.317709</td>\n",
       "    </tr>\n",
       "  </tbody>\n",
       "</table>\n",
       "</div>"
      ],
      "text/plain": [
       "   CreditScore_Class ProsperRating (Alpha)  BorrowerRate\n",
       "0           Excelent                     A      0.109295\n",
       "1           Excelent                    AA      0.078736\n",
       "2           Excelent                     B      0.147165\n",
       "3           Excelent                     C      0.204031\n",
       "4           Excelent                     D      0.249575\n",
       "5           Excelent                     E      0.312442\n",
       "6           Excelent                    HR      0.316460\n",
       "7               Fair                     A      0.114742\n",
       "8               Fair                     B      0.150491\n",
       "9               Fair                     C      0.188139\n",
       "10              Fair                     D      0.243853\n",
       "11              Fair                     E      0.292724\n",
       "12              Fair                    HR      0.317244\n",
       "13              Good                     A      0.109167\n",
       "14              Good                    AA      0.077930\n",
       "15              Good                     B      0.149636\n",
       "16              Good                     C      0.189954\n",
       "17              Good                     D      0.246725\n",
       "18              Good                     E      0.298809\n",
       "19              Good                    HR      0.317350\n",
       "20         Very good                     A      0.107832\n",
       "21         Very good                    AA      0.074962\n",
       "22         Very good                     B      0.151131\n",
       "23         Very good                     C      0.198505\n",
       "24         Very good                     D      0.251144\n",
       "25         Very good                     E      0.296246\n",
       "26         Very good                    HR      0.317709"
      ]
     },
     "execution_count": 241,
     "metadata": {},
     "output_type": "execute_result"
    }
   ],
   "source": [
    "#seelct only 36 month loan as it is more prevalent \n",
    "loan_data_cs36=loan_data_cs[loan_data_cs['Term']==36]\n",
    "credit_order=['Very Poor','Poor','Fair','Good','Very good','Excelent']\n",
    "aver_intrate_cred=pd.DataFrame(loan_data_cs36.groupby(['CreditScore_Class','ProsperRating (Alpha)'])['BorrowerRate'].mean()).reset_index()\n",
    "aver_intrate_cred"
   ]
  },
  {
   "cell_type": "code",
   "execution_count": 242,
   "metadata": {},
   "outputs": [
    {
     "data": {
      "image/png": "[encoded data removed]",
      "text/plain": [
       "<matplotlib.figure.Figure at 0x7fb4f9e04240>"
      ]
     },
     "metadata": {
      "needs_background": "light"
     },
     "output_type": "display_data"
    }
   ],
   "source": [
    "#36 months loan average rate by rating\n",
    "sb.barplot(data = aver_intrate_cred, x = 'ProsperRating (Alpha)', y = 'BorrowerRate', hue = 'CreditScore_Class',order=prosp_order,palette=[\"C0\", \"C6\", \"C7\", \"C8\"]);\n",
    "plt.xlabel('Prosper Loan Rating' );\n",
    "plt.ylabel('Average Interest Rate');\n"
   ]
  },
  {
   "cell_type": "markdown",
   "metadata": {},
   "source": [
    "### Talk about some of the relationships you observed in this part of the investigation. Were there features that strengthened each other in terms of looking at your feature(s) of interest?\n",
    "\n",
    "> Your answer here!\n",
    "\n",
    "### Were there any interesting or surprising interactions between features?\n",
    "\n",
    "> Your answer here!"
   ]
  },
  {
   "cell_type": "markdown",
   "metadata": {},
   "source": [
    "## Conclusions\n",
    ">You can write a summary of the main findings and reflect on the steps taken during the data exploration.\n"
   ]
  },
  {
   "cell_type": "markdown",
   "metadata": {},
   "source": [
    "\n",
    "> Remove all Tips mentioned above, before you convert this notebook to PDF/HTML\n",
    "\n",
    "\n",
    "> At the end of your report, make sure that you export the notebook as an\n",
    "html file from the `File > Download as... > HTML or PDF` menu. Make sure you keep\n",
    "track of where the exported file goes, so you can put it in the same folder\n",
    "as this notebook for project submission. Also, make sure you remove all of\n",
    "the quote-formatted guide notes like this one before you finish your report!\n",
    "\n"
   ]
  },
  {
   "cell_type": "code",
   "execution_count": null,
   "metadata": {},
   "outputs": [],
   "source": []
  }
 ],
 "metadata": {
  "kernelspec": {
   "display_name": "Python 3",
   "language": "python",
   "name": "python3"
  },
  "language_info": {
   "codemirror_mode": {
    "name": "ipython",
    "version": 3
   },
   "file_extension": ".py",
   "mimetype": "text/x-python",
   "name": "python",
   "nbconvert_exporter": "python",
   "pygments_lexer": "ipython3",
   "version": "3.6.3"
  }
 },
 "nbformat": 4,
 "nbformat_minor": 2
}
